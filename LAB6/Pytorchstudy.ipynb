{
 "metadata": {
  "language_info": {
   "codemirror_mode": {
    "name": "ipython",
    "version": 3
   },
   "file_extension": ".py",
   "mimetype": "text/x-python",
   "name": "python",
   "nbconvert_exporter": "python",
   "pygments_lexer": "ipython3",
   "version": "3.8.3-final"
  },
  "orig_nbformat": 2,
  "kernelspec": {
   "name": "Python 3.8.3 64-bit (virtualenv)",
   "display_name": "Python 3.8.3 64-bit (virtualenv)",
   "metadata": {
    "interpreter": {
     "hash": "a8f61be024eba58adef938c9aa1e29e02cb3dece83a5348b1a2dafd16a070453"
    }
   }
  }
 },
 "nbformat": 4,
 "nbformat_minor": 2,
 "cells": [
  {
   "cell_type": "code",
   "execution_count": 2,
   "metadata": {},
   "outputs": [
    {
     "output_type": "stream",
     "name": "stdout",
     "text": [
      "tensor([[0.9655, 0.3538, 0.3153],\n        [0.4354, 0.0119, 0.9060],\n        [0.7988, 0.2863, 0.2354],\n        [0.9873, 0.9333, 0.6467],\n        [0.6681, 0.0169, 0.6396]])\n"
     ]
    },
    {
     "output_type": "execute_result",
     "data": {
      "text/plain": [
       "torch.Size([5, 3])"
      ]
     },
     "metadata": {},
     "execution_count": 2
    }
   ],
   "source": [
    "from __future__ import print_function\n",
    "import torch\n",
    "x = torch.Tensor(5, 3)  # 构造一个未初始化的5*3的矩阵\n",
    "x = torch.rand(5, 3)  # 构造一个随机初始化的矩阵\n",
    "x # 此处在notebook中输出x的值来查看具体的x内容\n",
    "print(x)\n",
    "x.size()\n",
    "\n",
    "#NOTE: torch.Size 事实上是一个tuple, 所以其支持相关的操作*\n",
    "y = torch.rand(5, 3)\n",
    "\n",
    "#此处 将两个同形矩阵相加有两种语法结构\n",
    "x + y # 语法一\n",
    "torch.add(x, y) # 语法二\n",
    "# 另外输出tensor也有两种写法\n",
    "result = torch.Tensor(5, 3) # 语法一\n",
    "torch.add(x, y, out=result) # 语法二\n",
    "y.add_(x) # 将y与x相加\n",
    "\n",
    "# 特别注明：任何可以改变tensor内容的操作都会在方法名后加一个下划线'_'\n",
    "# 例如：x.copy_(y), x.t_(), 这俩都会改变x的值。\n",
    "\n",
    "#另外python中的切片操作也是资次的。\n",
    "x[:,1] #这一操作会输出x矩阵的第二列的所有值"
   ]
  },
  {
   "cell_type": "code",
   "execution_count": 4,
   "metadata": {},
   "outputs": [
    {
     "output_type": "stream",
     "name": "stdout",
     "text": [
      "tensor([2., 2., 2., 2., 2.])\n[2. 2. 2. 2. 2.]\n[2. 2. 2. 2. 2.]\ntensor([2., 2., 2., 2., 2.], dtype=torch.float64)\n"
     ]
    }
   ],
   "source": [
    "# 此处演示tensor和numpy数据结构的相互转换\n",
    "a = torch.ones(5)\n",
    "b = a.numpy()\n",
    "\n",
    "# 此处演示当修改numpy数组之后,与之相关联的tensor也会相应的被修改\n",
    "a.add_(1)\n",
    "print(a)\n",
    "print(b)\n",
    "\n",
    "# 将numpy的Array转换为torch的Tensor\n",
    "import numpy as np\n",
    "a = np.ones(5)\n",
    "b = torch.from_numpy(a)\n",
    "np.add(a, 1, out=a)\n",
    "print(a)\n",
    "print(b)\n",
    "\n",
    "# 另外除了CharTensor之外，所有的tensor都可以在CPU运算和GPU预算之间相互转换\n",
    "# 使用CUDA函数来将Tensor移动到GPU上\n",
    "# 当CUDA可用时会进行GPU的运算\n",
    "if torch.cuda.is_available():\n",
    "    x = x.cuda()\n",
    "    y = y.cuda()\n",
    "    x + y"
   ]
  },
  {
   "cell_type": "code",
   "execution_count": null,
   "metadata": {},
   "outputs": [],
   "source": []
  }
 ]
}